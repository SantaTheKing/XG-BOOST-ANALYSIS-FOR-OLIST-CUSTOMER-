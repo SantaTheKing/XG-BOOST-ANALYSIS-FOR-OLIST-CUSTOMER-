{
 "cells": [
  {
   "cell_type": "code",
   "execution_count": 7,
   "id": "eea2695c-5d77-4e73-9f53-a9301405df42",
   "metadata": {},
   "outputs": [
    {
     "name": "stdout",
     "output_type": "stream",
     "text": [
      "Requirement already satisfied: ipython-sql in c:\\users\\alejo\\anaconda3\\lib\\site-packages (0.5.0)\n",
      "Requirement already satisfied: prettytable in c:\\users\\alejo\\anaconda3\\lib\\site-packages (from ipython-sql) (3.16.0)\n",
      "Requirement already satisfied: ipython in c:\\users\\alejo\\anaconda3\\lib\\site-packages (from ipython-sql) (8.30.0)\n",
      "Requirement already satisfied: sqlalchemy>=2.0 in c:\\users\\alejo\\anaconda3\\lib\\site-packages (from ipython-sql) (2.0.39)\n",
      "Requirement already satisfied: sqlparse in c:\\users\\alejo\\anaconda3\\lib\\site-packages (from ipython-sql) (0.5.3)\n",
      "Requirement already satisfied: six in c:\\users\\alejo\\anaconda3\\lib\\site-packages (from ipython-sql) (1.17.0)\n",
      "Requirement already satisfied: ipython-genutils in c:\\users\\alejo\\anaconda3\\lib\\site-packages (from ipython-sql) (0.2.0)\n",
      "Requirement already satisfied: greenlet!=0.4.17 in c:\\users\\alejo\\anaconda3\\lib\\site-packages (from sqlalchemy>=2.0->ipython-sql) (3.1.1)\n",
      "Requirement already satisfied: typing-extensions>=4.6.0 in c:\\users\\alejo\\anaconda3\\lib\\site-packages (from sqlalchemy>=2.0->ipython-sql) (4.12.2)\n",
      "Requirement already satisfied: decorator in c:\\users\\alejo\\anaconda3\\lib\\site-packages (from ipython->ipython-sql) (5.1.1)\n",
      "Requirement already satisfied: jedi>=0.16 in c:\\users\\alejo\\anaconda3\\lib\\site-packages (from ipython->ipython-sql) (0.19.2)\n",
      "Requirement already satisfied: matplotlib-inline in c:\\users\\alejo\\anaconda3\\lib\\site-packages (from ipython->ipython-sql) (0.1.6)\n",
      "Requirement already satisfied: prompt-toolkit<3.1.0,>=3.0.41 in c:\\users\\alejo\\anaconda3\\lib\\site-packages (from ipython->ipython-sql) (3.0.43)\n",
      "Requirement already satisfied: pygments>=2.4.0 in c:\\users\\alejo\\anaconda3\\lib\\site-packages (from ipython->ipython-sql) (2.19.1)\n",
      "Requirement already satisfied: stack-data in c:\\users\\alejo\\anaconda3\\lib\\site-packages (from ipython->ipython-sql) (0.2.0)\n",
      "Requirement already satisfied: traitlets>=5.13.0 in c:\\users\\alejo\\anaconda3\\lib\\site-packages (from ipython->ipython-sql) (5.14.3)\n",
      "Requirement already satisfied: colorama in c:\\users\\alejo\\anaconda3\\lib\\site-packages (from ipython->ipython-sql) (0.4.6)\n",
      "Requirement already satisfied: wcwidth in c:\\users\\alejo\\anaconda3\\lib\\site-packages (from prompt-toolkit<3.1.0,>=3.0.41->ipython->ipython-sql) (0.2.5)\n",
      "Requirement already satisfied: parso<0.9.0,>=0.8.4 in c:\\users\\alejo\\anaconda3\\lib\\site-packages (from jedi>=0.16->ipython->ipython-sql) (0.8.4)\n",
      "Requirement already satisfied: executing in c:\\users\\alejo\\anaconda3\\lib\\site-packages (from stack-data->ipython->ipython-sql) (0.8.3)\n",
      "Requirement already satisfied: asttokens in c:\\users\\alejo\\anaconda3\\lib\\site-packages (from stack-data->ipython->ipython-sql) (3.0.0)\n",
      "Requirement already satisfied: pure-eval in c:\\users\\alejo\\anaconda3\\lib\\site-packages (from stack-data->ipython->ipython-sql) (0.2.2)\n"
     ]
    }
   ],
   "source": [
    "!pip install ipython-sql"
   ]
  },
  {
   "cell_type": "code",
   "execution_count": 8,
   "id": "7498d518-4044-4d9d-b4d6-77f4c1c98ac7",
   "metadata": {},
   "outputs": [
    {
     "name": "stdout",
     "output_type": "stream",
     "text": [
      "The sql extension is already loaded. To reload it, use:\n",
      "  %reload_ext sql\n"
     ]
    }
   ],
   "source": [
    "%load_ext sql"
   ]
  },
  {
   "cell_type": "code",
   "execution_count": 9,
   "id": "e997bf0d-f7a4-4bce-a0ef-c752ae7b9f1d",
   "metadata": {},
   "outputs": [
    {
     "name": "stdout",
     "output_type": "stream",
     "text": [
      "Requirement already satisfied: ipython-sql in c:\\users\\alejo\\anaconda3\\lib\\site-packages (0.5.0)\n",
      "Requirement already satisfied: psycopg2-binary in c:\\users\\alejo\\anaconda3\\lib\\site-packages (2.9.10)\n",
      "Requirement already satisfied: prettytable in c:\\users\\alejo\\anaconda3\\lib\\site-packages (from ipython-sql) (3.16.0)\n",
      "Requirement already satisfied: ipython in c:\\users\\alejo\\anaconda3\\lib\\site-packages (from ipython-sql) (8.30.0)\n",
      "Requirement already satisfied: sqlalchemy>=2.0 in c:\\users\\alejo\\anaconda3\\lib\\site-packages (from ipython-sql) (2.0.39)\n",
      "Requirement already satisfied: sqlparse in c:\\users\\alejo\\anaconda3\\lib\\site-packages (from ipython-sql) (0.5.3)\n",
      "Requirement already satisfied: six in c:\\users\\alejo\\anaconda3\\lib\\site-packages (from ipython-sql) (1.17.0)\n",
      "Requirement already satisfied: ipython-genutils in c:\\users\\alejo\\anaconda3\\lib\\site-packages (from ipython-sql) (0.2.0)\n",
      "Requirement already satisfied: greenlet!=0.4.17 in c:\\users\\alejo\\anaconda3\\lib\\site-packages (from sqlalchemy>=2.0->ipython-sql) (3.1.1)\n",
      "Requirement already satisfied: typing-extensions>=4.6.0 in c:\\users\\alejo\\anaconda3\\lib\\site-packages (from sqlalchemy>=2.0->ipython-sql) (4.12.2)\n",
      "Requirement already satisfied: decorator in c:\\users\\alejo\\anaconda3\\lib\\site-packages (from ipython->ipython-sql) (5.1.1)\n",
      "Requirement already satisfied: jedi>=0.16 in c:\\users\\alejo\\anaconda3\\lib\\site-packages (from ipython->ipython-sql) (0.19.2)\n",
      "Requirement already satisfied: matplotlib-inline in c:\\users\\alejo\\anaconda3\\lib\\site-packages (from ipython->ipython-sql) (0.1.6)\n",
      "Requirement already satisfied: prompt-toolkit<3.1.0,>=3.0.41 in c:\\users\\alejo\\anaconda3\\lib\\site-packages (from ipython->ipython-sql) (3.0.43)\n",
      "Requirement already satisfied: pygments>=2.4.0 in c:\\users\\alejo\\anaconda3\\lib\\site-packages (from ipython->ipython-sql) (2.19.1)\n",
      "Requirement already satisfied: stack-data in c:\\users\\alejo\\anaconda3\\lib\\site-packages (from ipython->ipython-sql) (0.2.0)\n",
      "Requirement already satisfied: traitlets>=5.13.0 in c:\\users\\alejo\\anaconda3\\lib\\site-packages (from ipython->ipython-sql) (5.14.3)\n",
      "Requirement already satisfied: colorama in c:\\users\\alejo\\anaconda3\\lib\\site-packages (from ipython->ipython-sql) (0.4.6)\n",
      "Requirement already satisfied: wcwidth in c:\\users\\alejo\\anaconda3\\lib\\site-packages (from prompt-toolkit<3.1.0,>=3.0.41->ipython->ipython-sql) (0.2.5)\n",
      "Requirement already satisfied: parso<0.9.0,>=0.8.4 in c:\\users\\alejo\\anaconda3\\lib\\site-packages (from jedi>=0.16->ipython->ipython-sql) (0.8.4)\n",
      "Requirement already satisfied: executing in c:\\users\\alejo\\anaconda3\\lib\\site-packages (from stack-data->ipython->ipython-sql) (0.8.3)\n",
      "Requirement already satisfied: asttokens in c:\\users\\alejo\\anaconda3\\lib\\site-packages (from stack-data->ipython->ipython-sql) (3.0.0)\n",
      "Requirement already satisfied: pure-eval in c:\\users\\alejo\\anaconda3\\lib\\site-packages (from stack-data->ipython->ipython-sql) (0.2.2)\n"
     ]
    }
   ],
   "source": [
    "!pip install ipython-sql psycopg2-binary"
   ]
  },
  {
   "cell_type": "code",
   "execution_count": 10,
   "id": "20625f90-3993-4961-9823-8462812900ff",
   "metadata": {},
   "outputs": [],
   "source": [
    "from sqlalchemy import create_engine\n",
    "dbname=\"OLIST\"\n",
    "user=\"postgres\"\n",
    "password=\"4610\"\n",
    "host=\"localhost\"\n",
    "port=\"5432\"\n",
    "\n",
    "# Crear motor de conexión\n",
    "engine = create_engine(f\"postgresql+psycopg2://{user}:{password}@{host}:{port}/{dbname}\")\n"
   ]
  },
  {
   "cell_type": "code",
   "execution_count": 11,
   "id": "20be48a1-72e3-48ad-8e1b-371ee2d9359f",
   "metadata": {},
   "outputs": [],
   "source": [
    "import pandas as pd "
   ]
  },
  {
   "cell_type": "markdown",
   "id": "8f24d975-b211-41ba-8139-13cf5d19df53",
   "metadata": {},
   "source": [
    "# ANALISIS DE CLIENTE"
   ]
  },
  {
   "cell_type": "code",
   "execution_count": 19,
   "id": "36a97881-80c6-4cfc-bdaf-19f9c7a631f5",
   "metadata": {},
   "outputs": [
    {
     "name": "stdout",
     "output_type": "stream",
     "text": [
      "   customer_state  no_of_customers\n",
      "0              SP            41746\n",
      "1              RJ            12852\n",
      "2              MG            11635\n",
      "3              RS             5466\n",
      "4              PR             5045\n",
      "5              SC             3637\n",
      "6              BA             3380\n",
      "7              DF             2140\n",
      "8              ES             2033\n",
      "9              GO             2020\n",
      "10             PE             1652\n",
      "11             CE             1336\n",
      "12             PA              975\n",
      "13             MT              907\n",
      "14             MA              747\n",
      "15             MS              715\n",
      "16             PB              536\n",
      "17             PI              495\n",
      "18             RN              485\n",
      "19             AL              413\n",
      "20             SE              350\n",
      "21             TO              280\n",
      "22             RO              253\n",
      "23             AM              148\n",
      "24             AC               81\n",
      "25             AP               68\n",
      "26             RR               46\n"
     ]
    }
   ],
   "source": [
    "# Cantidad de clientes que tiene OLIST por estado\n",
    "query = \"\"\"\n",
    "SELECT customer_state,\n",
    "       COUNT(customer_unique_id) AS no_of_customers\n",
    "FROM customers\n",
    "GROUP BY customer_state\n",
    "ORDER BY no_of_customers DESC;\n",
    "\"\"\"\n",
    "\n",
    "# Ejecutar consulta\n",
    "df = pd.read_sql_query(query, engine)\n",
    "\n",
    "# Mostrar los resultados\n",
    "print(df)"
   ]
  },
  {
   "cell_type": "code",
   "execution_count": 25,
   "id": "a283f342-b7ac-43d5-9fa0-26e7ce7b0852",
   "metadata": {},
   "outputs": [
    {
     "name": "stdout",
     "output_type": "stream",
     "text": [
      "         product_category  units\n",
      "0         cama_mesa_banho  13665\n",
      "1        moveis_decoracao  11540\n",
      "2            beleza_saude  11081\n",
      "3           esporte_lazer   9932\n",
      "4  informatica_acessorios   9874\n",
      "5   utilidades_domesticas   9051\n",
      "6      relogios_presentes   6594\n",
      "7      ferramentas_jardim   5874\n",
      "8               telefonia   5161\n",
      "9              automotivo   4881\n"
     ]
    }
   ],
   "source": [
    "#Top 10 Productos mas ordenados por los clientes\n",
    "\n",
    "query = \"\"\"\n",
    "WITH customer_items AS (\n",
    "    SELECT *\n",
    "    FROM customers\n",
    "    JOIN orders USING(customer_id)\n",
    "    JOIN order_items USING(order_id)\n",
    "    JOIN products USING(product_id)\n",
    ")\n",
    "SELECT product_category,\n",
    "       SUM(order_item_id) AS units\n",
    "FROM customer_items\n",
    "GROUP BY product_category\n",
    "ORDER BY units DESC\n",
    "LIMIT 10;\n",
    "\"\"\"\n",
    "\n",
    "# Ejecutar consulta y guardar en DataFrame\n",
    "df = pd.read_sql_query(query, engine)\n",
    "\n",
    "# Mostrar resultados\n",
    "print(df)"
   ]
  },
  {
   "cell_type": "code",
   "execution_count": 26,
   "id": "3a661400-0c5e-49e2-8315-15ed47dc8357",
   "metadata": {},
   "outputs": [
    {
     "name": "stdout",
     "output_type": "stream",
     "text": [
      "   customer_state  avg_price\n",
      "0              PB  254.92203\n",
      "1              AC  235.44011\n",
      "2              AL  230.23581\n",
      "3              AP  224.04231\n",
      "4              PI  219.86848\n",
      "5              RO  216.66422\n",
      "6              PA  216.15749\n",
      "7              RR  210.93135\n",
      "8              TO  207.69473\n",
      "9              CE  206.16673\n",
      "10             SE  205.05421\n",
      "11             MT  203.74744\n",
      "12             RN  202.12102\n",
      "13             MA  198.72446\n",
      "14             PE  188.99063\n",
      "15             AM  183.80533\n",
      "16             MS  180.05310\n",
      "17             BA  179.83725\n",
      "18             GO  178.20496\n",
      "19             RJ  164.28613\n",
      "20             SC  162.26056\n",
      "21             DF  160.20909\n",
      "22             ES  159.08660\n",
      "23             RS  158.83072\n",
      "24             PR  157.74991\n",
      "25             MG  155.78080\n",
      "26             SP  139.50151\n"
     ]
    }
   ],
   "source": [
    "# Precio promedio de pedido por estado\n",
    "query =  '''\n",
    "WITH order_price AS(\n",
    "    SELECT customer_id,\n",
    "           customer_state,\n",
    "           (order_item_id * price + freight_value)::real AS total_price\n",
    "    FROM customers\n",
    "    JOIN orders USING(customer_id)\n",
    "    JOIN order_items USING(order_id)\n",
    "    JOIN products USING(product_id)\n",
    ")\n",
    "SELECT customer_state,\n",
    "       AVG(total_price)::real AS avg_price\n",
    "FROM order_price\n",
    "GROUP BY customer_state\n",
    "ORDER BY avg_price DESC;\n",
    "'''\n",
    "\n",
    "# Ejecutar consulta y guardar en DataFrame\n",
    "df_precio_promedio = pd.read_sql_query(query, engine)\n",
    "\n",
    "# Mostrar resultados\n",
    "print(df_precio_promedio)"
   ]
  },
  {
   "cell_type": "code",
   "execution_count": 27,
   "id": "30e666cf-be22-4083-a463-1115dfdff626",
   "metadata": {},
   "outputs": [
    {
     "name": "stdout",
     "output_type": "stream",
     "text": [
      "  payment_type  cantidad_clientes\n",
      "0  credit_card              76505\n",
      "1       boleto              19784\n",
      "2      voucher               3866\n",
      "3   debit_card               1528\n",
      "4  not_defined                  3\n"
     ]
    }
   ],
   "source": [
    "# Métodos de pago por cliente\n",
    "query = '''\n",
    "SELECT payment_type,\n",
    "       COUNT(DISTINCT customer_id) AS cantidad_clientes\n",
    "FROM orders AS o\n",
    "JOIN order_payments AS p USING(order_id)\n",
    "JOIN customers AS c USING(customer_id)\n",
    "GROUP BY payment_type\n",
    "ORDER BY cantidad_clientes DESC;\n",
    "'''\n",
    "\n",
    "# Ejecutar consulta y guardar en DataFrame\n",
    "df = pd.read_sql_query(query, engine)\n",
    "\n",
    "# Mostrar resultados\n",
    "print(df)"
   ]
  },
  {
   "cell_type": "markdown",
   "id": "9ee96a34-6404-45a4-ae07-6d8c14ac7274",
   "metadata": {},
   "source": [
    "# ANALISIS DE PRODUCTO Y VENDORES"
   ]
  },
  {
   "cell_type": "code",
   "execution_count": 20,
   "id": "a33c1721-d98f-484b-9dca-4700cac068e7",
   "metadata": {},
   "outputs": [
    {
     "name": "stdout",
     "output_type": "stream",
     "text": [
      "    month  difference\n",
      "0       1   13.384960\n",
      "1       2    9.620979\n",
      "2       3    7.172164\n",
      "3       4   11.974069\n",
      "4       5   11.707500\n",
      "5       6   16.024807\n",
      "6       7   10.879737\n",
      "7       8    9.200588\n",
      "8       9   10.389063\n",
      "9      10   12.356947\n",
      "10     11    7.266603\n",
      "11     12   12.093943\n"
     ]
    }
   ],
   "source": [
    "# Este análisis nos muestra la diferencia promedio (en días) entre la fecha estimada\n",
    "# de entrega y la fecha real de entrega, agrupado por mes de compra.\n",
    "query = \"\"\"\n",
    "SELECT month,\n",
    "       AVG(deviation_from_estimated)::real AS difference\n",
    "FROM (\n",
    "    SELECT EXTRACT(MONTH FROM order_purchase)::int AS month,\n",
    "           EXTRACT('days' FROM order_estimated_delivery - order_delivered_customer)::int AS deviation_from_estimated\n",
    "    FROM orders\n",
    "    WHERE order_status = 'delivered'\n",
    ") AS diff\n",
    "GROUP BY month\n",
    "ORDER BY month;\n",
    "\"\"\"\n",
    "\n",
    "# Ejecutar consulta\n",
    "df = pd.read_sql_query(query, engine)\n",
    "\n",
    "# Mostrar los resultados\n",
    "print(df)"
   ]
  },
  {
   "cell_type": "code",
   "execution_count": 21,
   "id": "cc17c00a-7ac8-4f47-80da-02dc0a7dc677",
   "metadata": {},
   "outputs": [
    {
     "name": "stdout",
     "output_type": "stream",
     "text": [
      "   customer_state  avg_delivery_time_days\n",
      "0              RR               28.975609\n",
      "1              AP               26.731344\n",
      "2              AM               25.986206\n",
      "3              AL               24.040302\n",
      "4              PA               23.316067\n",
      "5              MA               21.117155\n",
      "6              SE               21.029850\n",
      "7              CE               20.817827\n",
      "8              AC               20.637500\n",
      "9              PB               19.953579\n",
      "10             PI               18.993698\n",
      "11             RO               18.913580\n",
      "12             BA               18.866400\n",
      "13             RN               18.824894\n",
      "14             PE               17.965473\n",
      "15             MT               17.593680\n",
      "16             TO               17.226278\n",
      "17             ES               15.331830\n",
      "18             MS               15.191155\n",
      "19             GO               15.150741\n",
      "20             RJ               14.848583\n",
      "21             RS               14.819237\n",
      "22             SC               14.475183\n",
      "23             DF               12.509134\n",
      "24             MG               11.542188\n",
      "25             PR               11.526711\n",
      "26             SP                8.298094\n"
     ]
    }
   ],
   "source": [
    "# Este análisis nos muestra el tiempo promedio de entrega (en días)\n",
    "# desde la fecha de compra hasta la fecha de entrega,\n",
    "# agrupado por estado del cliente.\n",
    "\n",
    "query = \"\"\"\n",
    "SELECT delivery_time.customer_state,\n",
    "       AVG(delivery_time.delivery_in_days)::real AS avg_delivery_time_days\n",
    "FROM (\n",
    "    SELECT cu.customer_state,\n",
    "           EXTRACT('days' FROM od.order_delivered_customer - od.order_purchase)::int AS delivery_in_days\n",
    "    FROM orders AS od\n",
    "    JOIN customers AS cu ON od.customer_id = cu.customer_id\n",
    "    WHERE order_status = 'delivered'\n",
    ") AS delivery_time\n",
    "GROUP BY customer_state\n",
    "ORDER BY avg_delivery_time_days DESC;\n",
    "\"\"\"\n",
    "\n",
    "# Ejecutar consulta\n",
    "df = pd.read_sql_query(query, engine)\n",
    "\n",
    "# Mostrar los resultados\n",
    "print(df)"
   ]
  },
  {
   "cell_type": "code",
   "execution_count": 22,
   "id": "dad6fe73-d559-4932-8c56-fcfb3388819f",
   "metadata": {},
   "outputs": [
    {
     "name": "stdout",
     "output_type": "stream",
     "text": [
      "   customer_state  product_category  total_sold\n",
      "0              SP   cama_mesa_banho        5157\n",
      "1              RJ   cama_mesa_banho        1605\n",
      "2              MG   cama_mesa_banho        1322\n",
      "3              RS   cama_mesa_banho         611\n",
      "4              PR  moveis_decoracao         516\n",
      "5              SC     esporte_lazer         356\n",
      "6              BA      beleza_saude         340\n",
      "7              DF      beleza_saude         242\n",
      "8              PE      beleza_saude         233\n",
      "9              GO   cama_mesa_banho         231\n",
      "10             ES   cama_mesa_banho         223\n",
      "11             CE      beleza_saude         162\n",
      "12             PA      beleza_saude         105\n",
      "13             MT      beleza_saude          89\n",
      "14             MA      beleza_saude          88\n",
      "15             PB      beleza_saude          76\n",
      "16             MS     esporte_lazer          74\n",
      "17             AL      beleza_saude          62\n",
      "18             RN      beleza_saude          57\n",
      "19             PI      beleza_saude          53\n",
      "20             SE      beleza_saude          38\n",
      "21             TO      beleza_saude          36\n",
      "22             RO      beleza_saude          25\n",
      "23             AM      beleza_saude          20\n",
      "24             AC  moveis_decoracao          12\n",
      "25             AP      beleza_saude          10\n",
      "26             RR     esporte_lazer           8\n"
     ]
    }
   ],
   "source": [
    "# Este análisis nos muestra el producto más vendido en cada estado,\n",
    "# tomando en cuenta únicamente las órdenes entregadas.\n",
    "query = \"\"\"\n",
    "WITH sales AS (\n",
    "    SELECT cu.customer_state,\n",
    "           pr.product_category,\n",
    "           COUNT(oi.product_id) AS total_sold\n",
    "    FROM customers AS cu\n",
    "    JOIN orders AS o ON cu.customer_id = o.customer_id\n",
    "    JOIN order_items AS oi ON o.order_id = oi.order_id\n",
    "    JOIN products AS pr ON oi.product_id = pr.product_id\n",
    "    WHERE o.order_status = 'delivered'\n",
    "    GROUP BY cu.customer_state, pr.product_category\n",
    ")\n",
    "SELECT customer_state, product_category, total_sold\n",
    "FROM (\n",
    "    SELECT customer_state,\n",
    "           product_category,\n",
    "           total_sold,\n",
    "           ROW_NUMBER() OVER (PARTITION BY customer_state ORDER BY total_sold DESC) AS rank\n",
    "    FROM sales\n",
    ") ranked\n",
    "WHERE rank = 1\n",
    "ORDER BY total_sold DESC;\n",
    "\"\"\"\n",
    "\n",
    "\n",
    "# Ejecutar consulta\n",
    "df = pd.read_sql_query(query, engine)\n",
    "\n",
    "# Mostrar resultados\n",
    "print(df)"
   ]
  },
  {
   "cell_type": "code",
   "execution_count": 23,
   "id": "8a6e10dd-1a80-4c8e-955b-3175b9ffd665",
   "metadata": {},
   "outputs": [
    {
     "name": "stdout",
     "output_type": "stream",
     "text": [
      "   customer_state                         seller_id  total_sales\n",
      "0              MG  1f50f920176fa81dab994f9023523100          256\n",
      "1              MG  4a3ca9315b744ce9f8e9374361493884          251\n",
      "2              MG  6560211a19b47992c3666cc44a7e94c0          213\n",
      "3              MG  a1043bafd471dff536d0c462352beb48          200\n",
      "4              MG  1025f0e2d44d7041d6cf58b6550e0bfa          199\n",
      "5              RJ  4a3ca9315b744ce9f8e9374361493884          292\n",
      "6              RJ  1f50f920176fa81dab994f9023523100          282\n",
      "7              RJ  7c67e1448b00f6e969d365cea6b010ab          260\n",
      "8              RJ  4869f7a5dfa277a7dca6462dcf3b52b2          207\n",
      "9              RJ  6560211a19b47992c3666cc44a7e94c0          206\n",
      "10             SP  6560211a19b47992c3666cc44a7e94c0          880\n",
      "11             SP  4a3ca9315b744ce9f8e9374361493884          878\n",
      "12             SP  da8622b14eb17ae2831f4ac5b9dab84a          831\n",
      "13             SP  955fee9216a65b617aa5c0531780ce60          729\n",
      "14             SP  1f50f920176fa81dab994f9023523100          677\n"
     ]
    }
   ],
   "source": [
    "# Este análisis muestra los 5 vendedores con más ventas en cada uno\n",
    "# de los 3 estados principales (mercados más grandes).\n",
    "query = \"\"\"\n",
    "WITH market_size AS (\n",
    "    SELECT cu.customer_state,\n",
    "           COUNT(o.order_id) AS total_orders\n",
    "    FROM customers AS cu\n",
    "    JOIN orders AS o ON cu.customer_id = o.customer_id\n",
    "    WHERE o.order_status = 'delivered'\n",
    "    GROUP BY cu.customer_state\n",
    "    ORDER BY total_orders DESC\n",
    "    LIMIT 3\n",
    "),\n",
    "seller_sales AS (\n",
    "    SELECT cu.customer_state,\n",
    "           oi.seller_id,\n",
    "           COUNT(oi.order_id) AS total_sales\n",
    "    FROM customers AS cu\n",
    "    JOIN orders AS o ON cu.customer_id = o.customer_id\n",
    "    JOIN order_items AS oi ON o.order_id = oi.order_id\n",
    "    WHERE o.order_status = 'delivered'\n",
    "    GROUP BY cu.customer_state, oi.seller_id\n",
    ")\n",
    "SELECT customer_state, seller_id, total_sales\n",
    "FROM (\n",
    "    SELECT ss.customer_state,\n",
    "           ss.seller_id,\n",
    "           ss.total_sales,\n",
    "           ROW_NUMBER() OVER (PARTITION BY ss.customer_state ORDER BY ss.total_sales DESC) AS rank\n",
    "    FROM seller_sales ss\n",
    "    JOIN market_size ms ON ss.customer_state = ms.customer_state\n",
    ") ranked\n",
    "WHERE rank <= 5\n",
    "ORDER BY customer_state, total_sales DESC;\n",
    "\"\"\"\n",
    "\n",
    "# Ejecutar consulta\n",
    "df = pd.read_sql_query(query, engine)\n",
    "\n",
    "# Mostrar resultados\n",
    "print(df)"
   ]
  },
  {
   "cell_type": "code",
   "execution_count": 30,
   "id": "94275356-cea7-4f30-b376-82d6f321a563",
   "metadata": {},
   "outputs": [
    {
     "name": "stdout",
     "output_type": "stream",
     "text": [
      "  table_schema           table_name\n",
      "0       public            customers\n",
      "1       public         geo_location\n",
      "2       public          order_items\n",
      "3       public       order_payments\n",
      "4       public        order_reviews\n",
      "5       public               orders\n",
      "6       public  product_translation\n",
      "7       public             products\n",
      "8       public              sellers\n"
     ]
    }
   ],
   "source": [
    "query = \"\"\"\n",
    "SELECT table_schema, table_name\n",
    "FROM information_schema.tables\n",
    "WHERE table_schema NOT IN ('information_schema', 'pg_catalog')\n",
    "ORDER BY table_schema, table_name;\n",
    "\"\"\"\n",
    "\n",
    "df = pd.read_sql_query(query, engine)\n",
    "print(df)"
   ]
  },
  {
   "cell_type": "code",
   "execution_count": 33,
   "id": "dfb1e641-1169-4045-ae5b-3c3a1f925993",
   "metadata": {},
   "outputs": [
    {
     "name": "stdout",
     "output_type": "stream",
     "text": [
      "                column_name\n",
      "0  order_estimated_delivery\n",
      "1            order_approved\n",
      "2   order_delivered_carrier\n",
      "3  order_delivered_customer\n",
      "4            order_purchase\n",
      "5               customer_id\n",
      "6              order_status\n",
      "7                  order_id\n"
     ]
    }
   ],
   "source": [
    "query = \"\"\"\n",
    "SELECT column_name\n",
    "FROM information_schema.columns\n",
    "WHERE table_name = 'orders';\n",
    "\"\"\"\n",
    "df_cols = pd.read_sql_query(query, engine)\n",
    "print(df_cols)"
   ]
  },
  {
   "cell_type": "code",
   "execution_count": 34,
   "id": "262c8c2f-d020-4382-87dc-e1587deaf79b",
   "metadata": {},
   "outputs": [
    {
     "name": "stdout",
     "output_type": "stream",
     "text": [
      "        date  orders\n",
      "0 2016-09-15       1\n",
      "1 2016-10-03       7\n",
      "2 2016-10-04      54\n",
      "3 2016-10-05      35\n",
      "4 2016-10-06      41\n"
     ]
    }
   ],
   "source": [
    "query = \"\"\"\n",
    "SELECT DATE(order_purchase) AS date,\n",
    "       COUNT(*) AS orders\n",
    "FROM orders\n",
    "WHERE order_status = 'delivered'\n",
    "GROUP BY DATE(order_purchase)\n",
    "ORDER BY date;\n",
    "\"\"\"\n",
    "df = pd.read_sql_query(query, engine, parse_dates=[\"date\"])\n",
    "print(df.head())"
   ]
  },
  {
   "cell_type": "code",
   "execution_count": 35,
   "id": "f229ec60-a287-45f0-b4fe-394e474cce3f",
   "metadata": {
    "scrolled": true
   },
   "outputs": [
    {
     "data": {
      "image/png": "[encoded data removed]",
      "text/plain": [
       "<Figure size 1400x600 with 1 Axes>"
      ]
     },
     "metadata": {},
     "output_type": "display_data"
    }
   ],
   "source": [
    "query = \"\"\"\n",
    "SELECT DATE_TRUNC('month', order_purchase)::date AS month,\n",
    "       COUNT(*) AS orders\n",
    "FROM orders\n",
    "WHERE order_status = 'delivered'\n",
    "GROUP BY DATE_TRUNC('month', order_purchase)\n",
    "ORDER BY month;\n",
    "\"\"\"\n",
    "df_monthly = pd.read_sql_query(query, engine, parse_dates=[\"month\"])\n",
    "\n",
    "plt.figure(figsize=(14,6))\n",
    "plt.plot(df_monthly[\"month\"], df_monthly[\"orders\"], marker=\"o\", color=\"green\", linewidth=2)\n",
    "plt.title(\"Pedidos entregados por mes\", fontsize=16)\n",
    "plt.xlabel(\"Mes\")\n",
    "plt.ylabel(\"Número de pedidos\")\n",
    "plt.grid(alpha=0.3)\n",
    "plt.show()"
   ]
  }
 ],
 "metadata": {
  "kernelspec": {
   "display_name": "Python [conda env:base] *",
   "language": "python",
   "name": "conda-base-py"
  },
  "language_info": {
   "codemirror_mode": {
    "name": "ipython",
    "version": 3
   },
   "file_extension": ".py",
   "mimetype": "text/x-python",
   "name": "python",
   "nbconvert_exporter": "python",
   "pygments_lexer": "ipython3",
   "version": "3.13.5"
  }
 },
 "nbformat": 4,
 "nbformat_minor": 5
}
